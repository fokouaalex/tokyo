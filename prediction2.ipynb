{
 "cells": [
  {
   "cell_type": "code",
   "execution_count": 1,
   "metadata": {},
   "outputs": [
    {
     "name": "stdout",
     "output_type": "stream",
     "text": [
      "   CustomerID  Gender  Age  Tenure  Balance  Products  HasCrCard  \\\n",
      "0           1  Female   25      12     2000         1          1   \n",
      "1           2    Male   34       5     3000         2          0   \n",
      "2           3  Female   45      24     1500         2          1   \n",
      "3           4    Male   23       3      500         1          0   \n",
      "4           5  Female   54      56     4500         3          1   \n",
      "5           6  Female   35      19     3200         2          1   \n",
      "6           7    Male   42       8     1000         1          0   \n",
      "7           8    Male   27      10      600         1          0   \n",
      "8           9  Female   29       9      800         2          1   \n",
      "9          10  Female   31      15     2200         3          1   \n",
      "\n",
      "   IsActiveMember  EstimatedSalary  Churn  \n",
      "0               1            50000      0  \n",
      "1               1            60000      1  \n",
      "2               0            52000      0  \n",
      "3               0            25000      1  \n",
      "4               1            75000      0  \n",
      "5               0            64000      1  \n",
      "6               1            48000      0  \n",
      "7               1            27000      0  \n",
      "8               0            29000      1  \n",
      "9               1            57000      0  \n"
     ]
    }
   ],
   "source": [
    "import pandas as pd\n",
    "\n",
    "# Création d'un dataset de customer churn\n",
    "data = {\n",
    "    'CustomerID': [1, 2, 3, 4, 5, 6, 7, 8, 9, 10],\n",
    "    'Gender': ['Female', 'Male', 'Female', 'Male', 'Female', 'Female', 'Male', 'Male', 'Female', 'Female'],\n",
    "    'Age': [25, 34, 45, 23, 54, 35, 42, 27, 29, 31],\n",
    "    'Tenure': [12, 5, 24, 3, 56, 19, 8, 10, 9, 15],  # Tenure in months\n",
    "    'Balance': [2000, 3000, 1500, 500, 4500, 3200, 1000, 600, 800, 2200],\n",
    "    'Products': [1, 2, 2, 1, 3, 2, 1, 1, 2, 3],  # Number of products subscribed\n",
    "    'HasCrCard': [1, 0, 1, 0, 1, 1, 0, 0, 1, 1],  # Whether the customer has a credit card (1: Yes, 0: No)\n",
    "    'IsActiveMember': [1, 1, 0, 0, 1, 0, 1, 1, 0, 1],  # Whether the customer is an active member (1: Yes, 0: No)\n",
    "    'EstimatedSalary': [50000, 60000, 52000, 25000, 75000, 64000, 48000, 27000, 29000, 57000],\n",
    "    'Churn': [0, 1, 0, 1, 0, 1, 0, 0, 1, 0]  # Whether the customer churned (1: Yes, 0: No)\n",
    "}\n",
    "\n",
    "# Conversion du dictionnaire en DataFrame\n",
    "df = pd.DataFrame(data)\n",
    "\n",
    "# Affichage du DataFrame\n",
    "print(df)\n",
    "\n",
    "# Sauvegarde du DataFrame sous forme de fichier CSV\n",
    "df.to_csv('customer_churn.csv', index=False)\n"
   ]
  },
  {
   "cell_type": "code",
   "execution_count": 2,
   "metadata": {},
   "outputs": [],
   "source": [
    "# Chargement du dataset à partir du fichier CSV\n",
    "df = pd.read_csv('customer_churn.csv')"
   ]
  },
  {
   "cell_type": "code",
   "execution_count": 3,
   "metadata": {},
   "outputs": [
    {
     "name": "stdout",
     "output_type": "stream",
     "text": [
      "Nombre de churners: 4\n",
      "Nombre de non-churners: 6\n"
     ]
    }
   ],
   "source": [
    "# Analyse de la répartition des churners et non-churners\n",
    "churn_counts = df['Churn'].value_counts()\n",
    "print(f\"Nombre de churners: {churn_counts[1]}\")\n",
    "print(f\"Nombre de non-churners: {churn_counts[0]}\")\n"
   ]
  },
  {
   "cell_type": "code",
   "execution_count": 4,
   "metadata": {},
   "outputs": [],
   "source": [
    "# Analyse des caractéristiques des churners vs non-churners\n",
    "churn_mean = df[df['Churn'] == 1].mean()\n",
    "non_churn_mean = df[df['Churn'] == 0].mean()"
   ]
  },
  {
   "cell_type": "code",
   "execution_count": 5,
   "metadata": {},
   "outputs": [
    {
     "name": "stdout",
     "output_type": "stream",
     "text": [
      "Moyenne des caractéristiques des churners:\n",
      "CustomerID             5.25\n",
      "Age                   30.25\n",
      "Tenure                 9.00\n",
      "Balance             1875.00\n",
      "Products               1.75\n",
      "HasCrCard              0.50\n",
      "IsActiveMember         0.25\n",
      "EstimatedSalary    44500.00\n",
      "Churn                  1.00\n",
      "dtype: float64\n",
      "\n",
      "Moyenne des caractéristiques des non-churners:\n",
      "CustomerID             5.666667\n",
      "Age                   37.333333\n",
      "Tenure                20.833333\n",
      "Balance             1966.666667\n",
      "Products               1.833333\n",
      "HasCrCard              0.666667\n",
      "IsActiveMember         0.833333\n",
      "EstimatedSalary    51500.000000\n",
      "Churn                  0.000000\n",
      "dtype: float64\n"
     ]
    }
   ],
   "source": [
    "print(\"Moyenne des caractéristiques des churners:\")\n",
    "print(churn_mean)\n",
    "print(\"\\nMoyenne des caractéristiques des non-churners:\")\n",
    "print(non_churn_mean)\n"
   ]
  },
  {
   "cell_type": "code",
   "execution_count": 6,
   "metadata": {},
   "outputs": [
    {
     "name": "stdout",
     "output_type": "stream",
     "text": [
      "       CustomerID        Age     Tenure      Balance   Products  HasCrCard  \\\n",
      "count    10.00000  10.000000  10.000000    10.000000  10.000000  10.000000   \n",
      "mean      5.50000  34.500000  16.100000  1930.000000   1.800000   0.600000   \n",
      "std       3.02765   9.823441  15.380001  1315.759181   0.788811   0.516398   \n",
      "min       1.00000  23.000000   3.000000   500.000000   1.000000   0.000000   \n",
      "25%       3.25000  27.500000   8.250000   850.000000   1.000000   0.000000   \n",
      "50%       5.50000  32.500000  11.000000  1750.000000   2.000000   1.000000   \n",
      "75%       7.75000  40.250000  18.000000  2800.000000   2.000000   1.000000   \n",
      "max      10.00000  54.000000  56.000000  4500.000000   3.000000   1.000000   \n",
      "\n",
      "       IsActiveMember  EstimatedSalary      Churn  \n",
      "count       10.000000        10.000000  10.000000  \n",
      "mean         0.600000     48700.000000   0.400000  \n",
      "std          0.516398     16852.629205   0.516398  \n",
      "min          0.000000     25000.000000   0.000000  \n",
      "25%          0.000000     33750.000000   0.000000  \n",
      "50%          1.000000     51000.000000   0.000000  \n",
      "75%          1.000000     59250.000000   1.000000  \n",
      "max          1.000000     75000.000000   1.000000  \n"
     ]
    }
   ],
   "source": [
    "# Affichage des statistiques descriptives du dataset\n",
    "print(df.describe())"
   ]
  },
  {
   "cell_type": "markdown",
   "metadata": {},
   "source": [
    "CustomerID : Identifiant unique pour chaque client.\n",
    "Gender : Genre du client (Male ou Female).\n",
    "Age : Âge du client.\n",
    "Tenure : Durée d'abonnement en mois.\n",
    "Balance : Solde du compte du client.\n",
    "Products : Nombre de produits souscrits par le client.\n",
    "HasCrCard : Indique si le client possède une carte de crédit (1: Oui, 0: Non).\n",
    "IsActiveMember : Indique si le client est un membre actif (1: Oui, 0: Non).\n",
    "EstimatedSalary : Salaire estimé du client.\n",
    "Churn : Indique si le client a cessé d'utiliser les services (1: Oui, 0: Non)."
   ]
  },
  {
   "cell_type": "markdown",
   "metadata": {},
   "source": []
  },
  {
   "cell_type": "markdown",
   "metadata": {},
   "source": []
  },
  {
   "cell_type": "code",
   "execution_count": null,
   "metadata": {},
   "outputs": [],
   "source": []
  },
  {
   "cell_type": "code",
   "execution_count": null,
   "metadata": {},
   "outputs": [],
   "source": []
  },
  {
   "cell_type": "code",
   "execution_count": null,
   "metadata": {},
   "outputs": [],
   "source": []
  },
  {
   "cell_type": "code",
   "execution_count": null,
   "metadata": {},
   "outputs": [],
   "source": []
  },
  {
   "cell_type": "code",
   "execution_count": null,
   "metadata": {},
   "outputs": [],
   "source": []
  },
  {
   "cell_type": "code",
   "execution_count": null,
   "metadata": {},
   "outputs": [],
   "source": []
  },
  {
   "cell_type": "code",
   "execution_count": null,
   "metadata": {},
   "outputs": [],
   "source": []
  },
  {
   "cell_type": "code",
   "execution_count": null,
   "metadata": {},
   "outputs": [],
   "source": []
  }
 ],
 "metadata": {
  "kernelspec": {
   "display_name": "base",
   "language": "python",
   "name": "python3"
  },
  "language_info": {
   "codemirror_mode": {
    "name": "ipython",
    "version": 3
   },
   "file_extension": ".py",
   "mimetype": "text/x-python",
   "name": "python",
   "nbconvert_exporter": "python",
   "pygments_lexer": "ipython3",
   "version": "3.8.8"
  }
 },
 "nbformat": 4,
 "nbformat_minor": 2
}
