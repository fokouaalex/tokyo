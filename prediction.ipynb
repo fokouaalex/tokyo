{
 "cells": [
  {
   "cell_type": "code",
   "execution_count": 1,
   "metadata": {},
   "outputs": [
    {
     "name": "stdout",
     "output_type": "stream",
     "text": [
      "   ClientID Sexe  Age  RevenuMensuel  NombreDeServices  AncienneteEnMois  \\\n",
      "0         1    F   25           5000                 2                12   \n",
      "1         2    M   45           6000                 3                24   \n",
      "2         3    F   35           4500                 1                18   \n",
      "3         4    M   50           7000                 4                36   \n",
      "4         5    F   23           3000                 2                 6   \n",
      "5         6    M   40           5000                 2                20   \n",
      "6         7    F   31           4000                 3                15   \n",
      "7         8    M   34           4200                 1                10   \n",
      "8         9    F   29           3900                 1                 8   \n",
      "9        10    M   60           8000                 5                48   \n",
      "\n",
      "   Churn  \n",
      "0      0  \n",
      "1      1  \n",
      "2      0  \n",
      "3      0  \n",
      "4      1  \n",
      "5      0  \n",
      "6      1  \n",
      "7      1  \n",
      "8      0  \n",
      "9      0  \n"
     ]
    }
   ],
   "source": [
    "import pandas as pd\n",
    "\n",
    "# Création d'un dataset de churn de clients\n",
    "data = {\n",
    "    'ClientID': [1, 2, 3, 4, 5, 6, 7, 8, 9, 10],\n",
    "    'Sexe': ['F', 'M', 'F', 'M', 'F', 'M', 'F', 'M', 'F', 'M'],\n",
    "    'Age': [25, 45, 35, 50, 23, 40, 31, 34, 29, 60],\n",
    "    'RevenuMensuel': [5000, 6000, 4500, 7000, 3000, 5000, 4000, 4200, 3900, 8000],\n",
    "    'NombreDeServices': [2, 3, 1, 4, 2, 2, 3, 1, 1, 5],\n",
    "    'AncienneteEnMois': [12, 24, 18, 36, 6, 20, 15, 10, 8, 48],\n",
    "    'Churn': [0, 1, 0, 0, 1, 0, 1, 1, 0, 0]\n",
    "}\n",
    "\n",
    "# Conversion du dictionnaire en DataFrame\n",
    "df = pd.DataFrame(data)\n",
    "\n",
    "# Affichage du DataFrame\n",
    "print(df)\n",
    "\n",
    "# Sauvegarde du DataFrame sous forme de fichier CSV\n",
    "df.to_csv('customer_churn.csv', index=False)\n"
   ]
  },
  {
   "cell_type": "code",
   "execution_count": 2,
   "metadata": {},
   "outputs": [],
   "source": [
    "# Chargement du dataset à partir du fichier CSV\n",
    "df = pd.read_csv('customer_churn.csv')\n"
   ]
  },
  {
   "cell_type": "code",
   "execution_count": 4,
   "metadata": {},
   "outputs": [
    {
     "name": "stdout",
     "output_type": "stream",
     "text": [
      "Nombre de churns : 4\n"
     ]
    }
   ],
   "source": [
    "# Comptage du nombre de churns\n",
    "nombre_de_churns = df['Churn'].sum()\n",
    "print(f\"Nombre de churns : {nombre_de_churns}\")"
   ]
  },
  {
   "cell_type": "code",
   "execution_count": 5,
   "metadata": {},
   "outputs": [
    {
     "name": "stdout",
     "output_type": "stream",
     "text": [
      "M    5\n",
      "F    5\n",
      "Name: Sexe, dtype: int64\n"
     ]
    }
   ],
   "source": [
    "# Comptage du nombre de clients par sexe\n",
    "comptage_par_sexe = df['Sexe'].value_counts()\n",
    "print(comptage_par_sexe)"
   ]
  },
  {
   "cell_type": "code",
   "execution_count": 6,
   "metadata": {},
   "outputs": [
    {
     "name": "stdout",
     "output_type": "stream",
     "text": [
      "Churn\n",
      "0    5566.666667\n",
      "1    4300.000000\n",
      "Name: RevenuMensuel, dtype: float64\n"
     ]
    }
   ],
   "source": [
    "# Calcul de la moyenne des revenus mensuels par churn\n",
    "revenu_moyen_par_churn = df.groupby('Churn')['RevenuMensuel'].mean()\n",
    "print(revenu_moyen_par_churn)"
   ]
  },
  {
   "cell_type": "code",
   "execution_count": 7,
   "metadata": {},
   "outputs": [
    {
     "name": "stdout",
     "output_type": "stream",
     "text": [
      "Churn\n",
      "0    23.666667\n",
      "1    13.750000\n",
      "Name: AncienneteEnMois, dtype: float64\n"
     ]
    }
   ],
   "source": [
    "# Calcul de la moyenne de l'ancienneté par churn\n",
    "anciennete_moyenne_par_churn = df.groupby('Churn')['AncienneteEnMois'].mean()\n",
    "print(anciennete_moyenne_par_churn)"
   ]
  },
  {
   "cell_type": "code",
   "execution_count": 8,
   "metadata": {},
   "outputs": [],
   "source": [
    "import pandas as pd\n",
    "import seaborn as sns\n",
    "import matplotlib.pyplot as plt"
   ]
  },
  {
   "cell_type": "code",
   "execution_count": 9,
   "metadata": {},
   "outputs": [
    {
     "name": "stdout",
     "output_type": "stream",
     "text": [
      "   ClientID Sexe  Age  RevenuMensuel  NombreDeServices  AncienneteEnMois  \\\n",
      "0         1    F   25           5000                 2                12   \n",
      "1         2    M   45           6000                 3                24   \n",
      "2         3    F   35           4500                 1                18   \n",
      "3         4    M   50           7000                 4                36   \n",
      "4         5    F   23           3000                 2                 6   \n",
      "5         6    M   40           5000                 2                20   \n",
      "6         7    F   31           4000                 3                15   \n",
      "7         8    M   34           4200                 1                10   \n",
      "8         9    F   29           3900                 1                 8   \n",
      "9        10    M   60           8000                 5                48   \n",
      "\n",
      "   Churn  \n",
      "0      0  \n",
      "1      1  \n",
      "2      0  \n",
      "3      0  \n",
      "4      1  \n",
      "5      0  \n",
      "6      1  \n",
      "7      1  \n",
      "8      0  \n",
      "9      0  \n"
     ]
    }
   ],
   "source": [
    "# Chargement du dataset à partir du fichier CSV\n",
    "df = pd.read_csv('customer_churn.csv')\n",
    "\n",
    "# Affichage du DataFrame\n",
    "print(df)"
   ]
  },
  {
   "cell_type": "code",
   "execution_count": 10,
   "metadata": {},
   "outputs": [
    {
     "data": {
      "image/png": "[encoded data removed]",
      "text/plain": [
       "<Figure size 432x288 with 1 Axes>"
      ]
     },
     "metadata": {
      "needs_background": "light"
     },
     "output_type": "display_data"
    }
   ],
   "source": [
    "# Distribution du churn par sexe\n",
    "sns.countplot(x='Sexe', hue='Churn', data=df)\n",
    "plt.title('Distribution du Churn par Sexe')\n",
    "plt.show()"
   ]
  },
  {
   "cell_type": "code",
   "execution_count": 11,
   "metadata": {},
   "outputs": [
    {
     "data": {
      "image/png": "[encoded data removed]",
      "text/plain": [
       "<Figure size 432x288 with 1 Axes>"
      ]
     },
     "metadata": {
      "needs_background": "light"
     },
     "output_type": "display_data"
    }
   ],
   "source": [
    "# Revenu mensuel moyen par churn\n",
    "sns.barplot(x='Churn', y='RevenuMensuel', data=df)\n",
    "plt.title('Revenu Mensuel Moyen par Churn')\n",
    "plt.show()"
   ]
  },
  {
   "cell_type": "code",
   "execution_count": 12,
   "metadata": {},
   "outputs": [
    {
     "data": {
      "image/png": "[encoded data removed]",
      "text/plain": [
       "<Figure size 432x288 with 1 Axes>"
      ]
     },
     "metadata": {
      "needs_background": "light"
     },
     "output_type": "display_data"
    }
   ],
   "source": [
    "# Ancienneté moyenne par churn\n",
    "sns.barplot(x='Churn', y='AncienneteEnMois', data=df)\n",
    "plt.title('AnciennrteEnmois moyen par churn')\n",
    "plt.show()\n"
   ]
  },
  {
   "cell_type": "code",
   "execution_count": null,
   "metadata": {},
   "outputs": [],
   "source": []
  }
 ],
 "metadata": {
  "kernelspec": {
   "display_name": "base",
   "language": "python",
   "name": "python3"
  },
  "language_info": {
   "codemirror_mode": {
    "name": "ipython",
    "version": 3
   },
   "file_extension": ".py",
   "mimetype": "text/x-python",
   "name": "python",
   "nbconvert_exporter": "python",
   "pygments_lexer": "ipython3",
   "version": "3.8.8"
  }
 },
 "nbformat": 4,
 "nbformat_minor": 2
}
